{
 "cells": [
  {
   "cell_type": "code",
   "execution_count": 12,
   "metadata": {},
   "outputs": [
    {
     "name": "stdout",
     "output_type": "stream",
     "text": [
      "The autoreload extension is already loaded. To reload it, use:\n",
      "  %reload_ext autoreload\n"
     ]
    }
   ],
   "source": [
    "# OPTIONAL: Load the \"autoreload\" extension so that code can change\n",
    "%load_ext autoreload\n",
    "\n",
    "# OPTIONAL: always reload modules so that as you change code in src, it gets loaded\n",
    "%autoreload 2"
   ]
  },
  {
   "cell_type": "code",
   "execution_count": 14,
   "metadata": {},
   "outputs": [
    {
     "name": "stdout",
     "output_type": "stream",
     "text": [
      "Tickers sucessfully loaded.\n",
      "CPI-U data downloaded successfully to /Users/haniyehjebelli/MasterCourses/Fall2023/DTFF/final-project/US-inflation-hedge-strategies/data/raw/cpi/CPI-U_2010_to_2022.csv\n",
      "\n",
      "[*********************100%%**********************]  0 of 0 completed\n",
      "An error occurred: No objects to concatenate\n",
      "\n",
      "Prices for all equities downloaded successfully to /Users/haniyehjebelli/MasterCourses/Fall2023/DTFF/final-project/US-inflation-hedge-strategies/data/raw/assets\n",
      "\n",
      "Gold prices were downloaded successfully to /Users/haniyehjebelli/MasterCourses/Fall2023/DTFF/final-project/US-inflation-hedge-strategies/data/raw/assets/gold_2010-01-01_to_2022-01-01.csv\n",
      "\n",
      "Data loading has finished, please check raw data files in /Users/haniyehjebelli/MasterCourses/Fall2023/DTFF/final-project/US-inflation-hedge-strategies/data/raw\n",
      "\n",
      "Monthly prices saved to gold_2010-01-01_to_2022-01-01_monthly_prices.csv\n",
      "\n",
      "Monthly prices were pulled successfully\n",
      "\n",
      "Inflation rates saved to CPI-U_2010_to_2022_inflation_rates.csv\n",
      "\n",
      "Inflation rates were calculated successfully\n",
      "\n",
      "Log returns saved to gold_2010-01-01_to_2022-01-01_monthly_prices_log_returns.csv\n",
      "\n",
      "Returns for all assets were calculated successfully\n",
      "\n",
      "Data processing has finished, please check processed data files in /Users/haniyehjebelli/MasterCourses/Fall2023/DTFF/final-project/US-inflation-hedge-strategies/data/processed \n"
     ]
    },
    {
     "name": "stderr",
     "output_type": "stream",
     "text": [
      "/Users/haniyehjebelli/MasterCourses/Fall2023/DTFF/final-project/US-inflation-hedge-strategies/src/data/process_data.py:38: SettingWithCopyWarning: \n",
      "A value is trying to be set on a copy of a slice from a DataFrame.\n",
      "Try using .loc[row_indexer,col_indexer] = value instead\n",
      "\n",
      "See the caveats in the documentation: https://pandas.pydata.org/pandas-docs/stable/user_guide/indexing.html#returning-a-view-versus-a-copy\n",
      "  eom_prices['USD (PM)'] = eom_prices['USD (PM)'].fillna(eom_prices['USD (AM)'])\n"
     ]
    }
   ],
   "source": [
    "import os\n",
    "import sys\n",
    "sys.path.append(os.path.abspath(\"..\"))\n",
    "sys.path.append(os.path.abspath(\"../src/data\"))\n",
    "\n",
    "from src.data import make_dataset\n",
    "\n",
    "make_dataset.main()"
   ]
  }
 ],
 "metadata": {
  "kernelspec": {
   "display_name": "base",
   "language": "python",
   "name": "python3"
  },
  "language_info": {
   "codemirror_mode": {
    "name": "ipython",
    "version": 3
   },
   "file_extension": ".py",
   "mimetype": "text/x-python",
   "name": "python",
   "nbconvert_exporter": "python",
   "pygments_lexer": "ipython3",
   "version": "3.11.5"
  }
 },
 "nbformat": 4,
 "nbformat_minor": 2
}
