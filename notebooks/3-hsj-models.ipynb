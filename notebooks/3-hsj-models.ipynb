{
 "cells": [
  {
   "cell_type": "code",
   "execution_count": 1,
   "metadata": {},
   "outputs": [],
   "source": [
    "# OPTIONAL: Load the \"autoreload\" extension so that code can change\n",
    "%load_ext autoreload\n",
    "\n",
    "# OPTIONAL: always reload modules so that as you change code in src, it gets loaded\n",
    "%autoreload 2"
   ]
  },
  {
   "cell_type": "markdown",
   "metadata": {},
   "source": [
    "### Objective\n",
    "this script aims to provide insights into how changes in inflation rates may influence the log returns of our four assets. The linear regression analysis helps us to quantify the strength and direction of this relationship, while robustness checks assess the stability of the findings under different conditions.\n",
    "\n",
    "### Outputs\n",
    "The results of the linear regression results and robustness checks, including cross-validation scores and metrics from robust regression saved to two CSV files.\n"
   ]
  },
  {
   "cell_type": "code",
   "execution_count": 2,
   "metadata": {},
   "outputs": [
    {
     "name": "stdout",
     "output_type": "stream",
     "text": [
      "Regression results saved to /Users/haniyehjebelli/MasterCourses/Fall2023/DTFF/final-project/US-inflation-hedge-strategies/models/regression_results.csv\n",
      "\n",
      "Robustness check results saved to /Users/haniyehjebelli/MasterCourses/Fall2023/DTFF/final-project/US-inflation-hedge-strategies/models/robustness_check_results.csv\n",
      "\n"
     ]
    }
   ],
   "source": [
    "import os\n",
    "import sys\n",
    "sys.path.append(os.path.abspath(\"..\"))\n",
    "sys.path.append(os.path.abspath(\"../src/models\"))\n",
    "\n",
    "from src.models import run_regression\n",
    "\n",
    "run_regression.main()"
   ]
  }
 ],
 "metadata": {
  "kernelspec": {
   "display_name": "base",
   "language": "python",
   "name": "python3"
  },
  "language_info": {
   "codemirror_mode": {
    "name": "ipython",
    "version": 3
   },
   "file_extension": ".py",
   "mimetype": "text/x-python",
   "name": "python",
   "nbconvert_exporter": "python",
   "pygments_lexer": "ipython3",
   "version": "3.11.5"
  }
 },
 "nbformat": 4,
 "nbformat_minor": 2
}
