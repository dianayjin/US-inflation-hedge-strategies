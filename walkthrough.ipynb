{
 "cells": [
  {
   "cell_type": "markdown",
   "metadata": {},
   "source": [
    "# US Inflation Hedge Strategies"
   ]
  },
  {
   "cell_type": "markdown",
   "metadata": {},
   "source": [
    "## Overview\n",
    "This analysis is grounded in the Fisher Hypothesis, initially proposed by Fisher in 1930, which establishes a theoretical framework for understanding the relationship between asset returns and inflation. This hypothesis suggests that nominal interest rates are a combination of real returns and the inflation rate. Extending this idea, Fama and Schwert (1977) and later Arnold and Auer (2015) argue that expected nominal returns across various assets are indicative of market expectations about inflation rates."
   ]
  },
  {
   "cell_type": "markdown",
   "metadata": {},
   "source": [
    "## Methodology\n",
    "### Theoretical model\n",
    "Our approach involves applying the generalized Fisher hypothesis to examine the inflation hedging capabilities of different asset classes. The formula used is as follows:\n",
    "\n",
    "r_t = α + β * π_t + ε_t;&nbsp;&nbsp;&nbsp;&nbsp; ε_t ~ N(0, σ_E²)\n",
    "\n",
    "where,\n",
    "\n",
    "- r_t is the asset return, calculated as the first difference of the natural log of the asset's price.\n",
    "\n",
    "- π_t is the inflation rate, computed as the logarithm of the ratio of the current and previous Consumer Price Index (CPI) values.\n",
    "\n",
    "β represents the asset's potential to hedge against inflation:\n",
    "   - Partial Hedge: 0 < β < 1;\n",
    "   - Full Hedge: β = 1;\n",
    "   - Superior Performance: β > 1;\n",
    "   - No Inflation Hedging Potential: β ≤ 0.\n",
    "\n",
    "### Assumptions of the Model\n",
    "We assume that the relationship between the asset price and inflation is symmetric, which means the differences in the asset's ability to hedge are ignored, regardless of whether there are positive or negative changes in inflation. \n",
    "\n",
    "Although previous research has pointed out that the inflation hedging potential of some assets individually could be time-varying (e.g. it may show high reaction to structural changes in the economy, or may function as a hedge against inflation only in specific economic conditions or data ranges), to simplify our model, we assume that the hedging potential of the asset in question computed by the Fisher model can represent its average ability to hedge.\n",
    "\n",
    "### Robustness Checks\n",
    "To ensure the reliability and validity of our inflation hedging analysis, we implemented robustness checks. These checks are designed to test the stability and consistency of our results under various conditions and assumptions.\n",
    "   - **Cross-Validation:** We used 5-fold cross-validation to evaluate the performance of our regression model across different subsets of the data. This helps in assessing the model's ability to generalize and its performance consistency. The model's R² (coefficient of determination) scores across different folds were analyzed to gauge the variability in its predictive accuracy. Significant variability in these scores might indicate model overfitting or the presence of influential outliers.\n",
    "   - **Robust Regression Techniques:** To mitigate the influence of outliers or unusual data points, we employed a robust regression method (Huber). The Huber regression is less sensitive to outliers and provide coefficients that can be more representative of the underlying data trends. By comparing the coefficients from the standard linear regression with those from the robust regression, we can evaluate the impact of outliers on our findings. A substantial discrepancy between the beta coefficients from standard and robust regressions could suggest that the our model's findings are sensitive to outliers."
   ]
  },
  {
   "cell_type": "markdown",
   "metadata": {},
   "source": [
    "## Results\n",
    "\n",
    "### Imports"
   ]
  },
  {
   "cell_type": "code",
   "execution_count": null,
   "metadata": {},
   "outputs": [],
   "source": [
    "import os\n",
    "import sys\n",
    "sys.path.append(os.path.abspath(\"./src/\"))\n",
    "\n",
    "from src.data import make_dataset\n",
    "from src.features import build_features\n",
    "from src.models import run_regression\n",
    "from src.visualization import visualize"
   ]
  },
  {
   "cell_type": "markdown",
   "metadata": {},
   "source": [
    "### Data\n",
    "The time period of returns being analyzed is from 2004-01-01 to 2023-10-31.\n",
    "\n",
    "#### Data Sources\n",
    "- Secuirites/Equities: Yahoo Finance\n",
    "- Gold: London Bullion Market via Nasdaq\n",
    "- CPI Data: US Bureau of Labor Statistics\n",
    "\n",
    "You will be prompted to enter start and end dates, as well as a list of tickers.\n",
    "\n",
    "Use the following inputs to replicate our results.\n",
    "- **START DATE**: 2004-01-01\n",
    "- **END DATE**: 2023-10-31\n",
    "- **Tickers**: ^GSPC, TIP, VNQ\n",
    "\n",
    "Check the loaded data and then follow the prompt to continue to data processing."
   ]
  },
  {
   "cell_type": "code",
   "execution_count": null,
   "metadata": {},
   "outputs": [],
   "source": [
    "make_dataset.main()"
   ]
  },
  {
   "cell_type": "markdown",
   "metadata": {},
   "source": [
    "Merge data sets to load into the regression."
   ]
  },
  {
   "cell_type": "code",
   "execution_count": null,
   "metadata": {},
   "outputs": [],
   "source": [
    "build_features.main()"
   ]
  },
  {
   "cell_type": "markdown",
   "metadata": {},
   "source": [
    "### Regression\n",
    "Run data merging and regression modeling scripts to regress merged data and output model and robustness results (saved in ../models)."
   ]
  },
  {
   "cell_type": "code",
   "execution_count": null,
   "metadata": {},
   "outputs": [],
   "source": [
    "run_regression.main()"
   ]
  },
  {
   "cell_type": "markdown",
   "metadata": {},
   "source": [
    "### Visualizations\n",
    "View regression results and robustness checks by plotting them."
   ]
  },
  {
   "cell_type": "code",
   "execution_count": null,
   "metadata": {},
   "outputs": [],
   "source": [
    "visualize.main()"
   ]
  }
 ],
 "metadata": {
  "kernelspec": {
   "display_name": "US-inflation-hedges",
   "language": "python",
   "name": "python3"
  },
  "language_info": {
   "codemirror_mode": {
    "name": "ipython",
    "version": 3
   },
   "file_extension": ".py",
   "mimetype": "text/x-python",
   "name": "python",
   "nbconvert_exporter": "python",
   "pygments_lexer": "ipython3",
   "version": "3.12.0"
  }
 },
 "nbformat": 4,
 "nbformat_minor": 2
}
